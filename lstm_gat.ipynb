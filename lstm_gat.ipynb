{
 "cells": [
  {
   "cell_type": "code",
   "execution_count": 72,
   "metadata": {},
   "outputs": [],
   "source": [
    "from traffic_data import METRLADatasetLoader # descarga de datos\n",
    "import numpy as np # manipulacion de datos\n",
    "import matplotlib.pyplot as plt # graficar\n",
    "import torch # crear modelos\n",
    "from torch.utils.data import TensorDataset, DataLoader # manipular dataset\n",
    "import torch.nn as nn # para usar las capas predefinidas en torch\n",
    "import torch.optim as optim # para poder utilizar adam como el optimizador\n",
    "import torch.nn.functional as F\n",
    "from torch_geometric.nn import GATConv\n",
    "from torch_geometric.data import Data, Batch"
   ]
  },
  {
   "cell_type": "code",
   "execution_count": 73,
   "metadata": {},
   "outputs": [],
   "source": [
    "# cargamos los datos\n",
    "loader = METRLADatasetLoader() \n",
    "adj, weig, x, y = loader.get_dataset(num_timesteps_in=12, \n",
    "                                     num_timesteps_out=1)"
   ]
  },
  {
   "cell_type": "code",
   "execution_count": 74,
   "metadata": {},
   "outputs": [],
   "source": [
    "# omitiremos la variable del tiempo\n",
    "x = [i[:, 0, :] for i in x]"
   ]
  },
  {
   "cell_type": "code",
   "execution_count": 75,
   "metadata": {},
   "outputs": [],
   "source": [
    "adj = torch.tensor(adj)"
   ]
  },
  {
   "cell_type": "code",
   "execution_count": 76,
   "metadata": {},
   "outputs": [
    {
     "name": "stdout",
     "output_type": "stream",
     "text": [
      "34260 34260\n",
      "(207, 12)\n",
      "(207, 1)\n"
     ]
    }
   ],
   "source": [
    "N = len(x)\n",
    "print(len(x), len(y)) # instancias para entrenamiento\n",
    "print(x[0].shape) # cada instancia tiene 207 nodos en 12 momentos\n",
    "print(y[0].shape) # el ground truth es el grafo en el siguiente momento"
   ]
  },
  {
   "cell_type": "code",
   "execution_count": 77,
   "metadata": {},
   "outputs": [
    {
     "name": "stdout",
     "output_type": "stream",
     "text": [
      "torch.Size([34260, 12, 207])\n",
      "torch.Size([34260, 207])\n"
     ]
    }
   ],
   "source": [
    "# convertimos la lista a un tensor aumentando una dimension mas\n",
    "# primero convertimos a array porque es mas eficiente \n",
    "X = torch.tensor(np.array(x)).permute(0, 2, 1)\n",
    "Y = torch.tensor(np.array(y)).permute(0, 2, 1).squeeze()\n",
    "print(X.shape)\n",
    "print(Y.shape)"
   ]
  },
  {
   "cell_type": "code",
   "execution_count": 78,
   "metadata": {},
   "outputs": [],
   "source": [
    "# particionamos en train y test y cargamos los datos en objetos\n",
    "# DataLoader para mejorar la eficiencia\n",
    "\n",
    "train_p = 0.8 # porcentaje de training\n",
    "batch_size = 128\n",
    "\n",
    "train_size = int(train_p * len(X))\n",
    "test_size = len(X) - train_size\n",
    "\n",
    "X_train, X_test = torch.split(X, [train_size, test_size])\n",
    "Y_train, Y_test = torch.split(Y, [train_size, test_size])\n",
    "\n",
    "train_dataset = TensorDataset(X_train, Y_train)\n",
    "test_dataset = TensorDataset(X_test, Y_test)\n",
    "\n",
    "train_loader = DataLoader(train_dataset, batch_size=batch_size, \n",
    "                          shuffle=True, drop_last=True)\n",
    "test_loader = DataLoader(test_dataset, batch_size=batch_size, \n",
    "                         shuffle=False, drop_last=True)"
   ]
  },
  {
   "cell_type": "code",
   "execution_count": 79,
   "metadata": {},
   "outputs": [],
   "source": [
    "class LSTMGATmodel(nn.Module):\n",
    "    def __init__(self, n_nodes, rnn_hidden_size, \n",
    "                 fc_hidden_size, feat_per_node, gat_hidden_size, \n",
    "                 att_heads, \n",
    "                 batch_size, seq_len, num_lstm_layers=1):\n",
    "        super().__init__()\n",
    "        # parametros\n",
    "        self.batch_size = batch_size\n",
    "        self.seq_len = seq_len\n",
    "        self.n_nodes = n_nodes\n",
    "        \n",
    "        # capa espacial\n",
    "        self.gat1 = GATConv(feat_per_node, gat_hidden_size, \n",
    "                            heads=att_heads)\n",
    "        self.gat2 = GATConv(gat_hidden_size * att_heads, 1, \n",
    "                            heads=1, concat=False)\n",
    "\n",
    "        # capa temporal\n",
    "        self.rnn = nn.LSTM(n_nodes, rnn_hidden_size, \n",
    "                           batch_first=True, num_layers=num_lstm_layers)\n",
    "        self.fc1 = nn.Linear(rnn_hidden_size, fc_hidden_size)\n",
    "        self.relu = nn.ReLU()\n",
    "        self.fc2 = nn.Linear(fc_hidden_size, n_nodes)\n",
    "\n",
    "    def forward(self, batch):\n",
    "        # capa espacial\n",
    "        out = self.gat1(batch.x, batch.edge_index)\n",
    "        out = F.elu(out)\n",
    "        out = self.gat2(out, batch.edge_index)\n",
    "        out = F.elu(out)\n",
    "        \n",
    "        # reestructuracion de datos\n",
    "        out = out.view(self.batch_size, self.seq_len, self.n_nodes)\n",
    "        \n",
    "        # capa temporal\n",
    "        out, (hidden, cell) = self.rnn(out)\n",
    "        out = hidden[-1, :, :] \n",
    "        out = self.fc1(out) \n",
    "        out = self.relu(out) \n",
    "        out = self.fc2(out) \n",
    "        return out"
   ]
  },
  {
   "cell_type": "code",
   "execution_count": 80,
   "metadata": {},
   "outputs": [],
   "source": [
    "# inicializamos los parametros del modelo\n",
    "n_nodes = 207\n",
    "rnn_hidden_size = n_nodes * 2\n",
    "fc_hidden_size = rnn_hidden_size * 2\n",
    "feat_per_node = 1\n",
    "gat_hidden_size = 2\n",
    "att_heads = 1\n",
    "batch_size = 128\n",
    "seq_len = 12\n",
    "num_lstm_layers = 1"
   ]
  },
  {
   "cell_type": "code",
   "execution_count": 81,
   "metadata": {},
   "outputs": [
    {
     "name": "stdout",
     "output_type": "stream",
     "text": [
      "cuda\n"
     ]
    }
   ],
   "source": [
    "model = LSTMGATmodel(n_nodes, rnn_hidden_size, \n",
    "                 fc_hidden_size, feat_per_node, gat_hidden_size, \n",
    "                 att_heads,\n",
    "                 batch_size, seq_len, num_lstm_layers=1)\n",
    "device = torch.device('cuda' if torch.cuda.is_available() else 'cpu')\n",
    "model = model.to(device)\n",
    "print(device)"
   ]
  },
  {
   "cell_type": "code",
   "execution_count": 82,
   "metadata": {},
   "outputs": [
    {
     "name": "stdout",
     "output_type": "stream",
     "text": [
      "Epoch [1/20], Loss: 0.2541\n",
      "Epoch [2/20], Loss: 0.2149\n",
      "Epoch [3/20], Loss: 0.1818\n",
      "Epoch [4/20], Loss: 0.1738\n",
      "Epoch [5/20], Loss: 0.2373\n",
      "Epoch [6/20], Loss: 0.2070\n",
      "Epoch [7/20], Loss: 0.2116\n",
      "Epoch [8/20], Loss: 0.1405\n",
      "Epoch [9/20], Loss: 0.1591\n",
      "Epoch [10/20], Loss: 0.1933\n",
      "Epoch [11/20], Loss: 0.2257\n",
      "Epoch [12/20], Loss: 0.1252\n",
      "Epoch [13/20], Loss: 0.0996\n",
      "Epoch [14/20], Loss: 0.1201\n",
      "Epoch [15/20], Loss: 0.1643\n",
      "Epoch [16/20], Loss: 0.1058\n",
      "Epoch [17/20], Loss: 0.1717\n",
      "Epoch [18/20], Loss: 0.0997\n",
      "Epoch [19/20], Loss: 0.1602\n",
      "Epoch [20/20], Loss: 0.0974\n"
     ]
    }
   ],
   "source": [
    "# Definición de la función de pérdida y el optimizador\n",
    "criterion = nn.MSELoss()\n",
    "optimizer = optim.Adam(model.parameters(), lr=0.0001)\n",
    "lossi = []\n",
    "\n",
    "# Entrenamiento del modelo\n",
    "num_epochs = 20\n",
    "\n",
    "for epoch in range(num_epochs):\n",
    "    model.train()\n",
    "    for X_batch, Y_batch in train_loader:\n",
    "        Xcompact = X_batch.view(seq_len * batch_size, n_nodes)\n",
    "        grafos = [Data(i.view(-1, 1), adj) for i in Xcompact]\n",
    "        \n",
    "        batch_grafos = Batch.from_data_list(grafos).to(device)\n",
    "        Y_batch = Y_batch.to(device)\n",
    "        \n",
    "        # Forward \n",
    "        outputs = model(batch_grafos)\n",
    "        loss = criterion(outputs, Y_batch)\n",
    "        lossi.append(loss.item())\n",
    "\n",
    "        # Backprop\n",
    "        optimizer.zero_grad()\n",
    "        loss.backward()\n",
    "        optimizer.step()\n",
    "    \n",
    "    print(f'Epoch [{epoch+1}/{num_epochs}], Loss: {loss.item():.4f}')"
   ]
  },
  {
   "cell_type": "code",
   "execution_count": 83,
   "metadata": {},
   "outputs": [],
   "source": [
    "model.batch_size = X_test.size(0)"
   ]
  },
  {
   "cell_type": "code",
   "execution_count": 84,
   "metadata": {},
   "outputs": [
    {
     "ename": "RuntimeError",
     "evalue": "shape '[6852, 12, 207]' is invalid for input of size 317952",
     "output_type": "error",
     "traceback": [
      "\u001b[0;31m---------------------------------------------------------------------------\u001b[0m",
      "\u001b[0;31mRuntimeError\u001b[0m                              Traceback (most recent call last)",
      "Cell \u001b[0;32mIn[84], line 6\u001b[0m\n\u001b[1;32m      3\u001b[0m grafos \u001b[38;5;241m=\u001b[39m [Data(i\u001b[38;5;241m.\u001b[39mview(\u001b[38;5;241m-\u001b[39m\u001b[38;5;241m1\u001b[39m, \u001b[38;5;241m1\u001b[39m), adj) \u001b[38;5;28;01mfor\u001b[39;00m i \u001b[38;5;129;01min\u001b[39;00m Xcompact]\n\u001b[1;32m      5\u001b[0m batch_grafos \u001b[38;5;241m=\u001b[39m Batch\u001b[38;5;241m.\u001b[39mfrom_data_list(grafos)\u001b[38;5;241m.\u001b[39mto(device)\n\u001b[0;32m----> 6\u001b[0m predicted \u001b[38;5;241m=\u001b[39m \u001b[43mmodel\u001b[49m\u001b[43m(\u001b[49m\u001b[43mbatch_grafos\u001b[49m\u001b[43m)\u001b[49m\n",
      "File \u001b[0;32m~/miniconda3/envs/cudatest/lib/python3.8/site-packages/torch/nn/modules/module.py:1532\u001b[0m, in \u001b[0;36mModule._wrapped_call_impl\u001b[0;34m(self, *args, **kwargs)\u001b[0m\n\u001b[1;32m   1530\u001b[0m     \u001b[38;5;28;01mreturn\u001b[39;00m \u001b[38;5;28mself\u001b[39m\u001b[38;5;241m.\u001b[39m_compiled_call_impl(\u001b[38;5;241m*\u001b[39margs, \u001b[38;5;241m*\u001b[39m\u001b[38;5;241m*\u001b[39mkwargs)  \u001b[38;5;66;03m# type: ignore[misc]\u001b[39;00m\n\u001b[1;32m   1531\u001b[0m \u001b[38;5;28;01melse\u001b[39;00m:\n\u001b[0;32m-> 1532\u001b[0m     \u001b[38;5;28;01mreturn\u001b[39;00m \u001b[38;5;28;43mself\u001b[39;49m\u001b[38;5;241;43m.\u001b[39;49m\u001b[43m_call_impl\u001b[49m\u001b[43m(\u001b[49m\u001b[38;5;241;43m*\u001b[39;49m\u001b[43margs\u001b[49m\u001b[43m,\u001b[49m\u001b[43m \u001b[49m\u001b[38;5;241;43m*\u001b[39;49m\u001b[38;5;241;43m*\u001b[39;49m\u001b[43mkwargs\u001b[49m\u001b[43m)\u001b[49m\n",
      "File \u001b[0;32m~/miniconda3/envs/cudatest/lib/python3.8/site-packages/torch/nn/modules/module.py:1541\u001b[0m, in \u001b[0;36mModule._call_impl\u001b[0;34m(self, *args, **kwargs)\u001b[0m\n\u001b[1;32m   1536\u001b[0m \u001b[38;5;66;03m# If we don't have any hooks, we want to skip the rest of the logic in\u001b[39;00m\n\u001b[1;32m   1537\u001b[0m \u001b[38;5;66;03m# this function, and just call forward.\u001b[39;00m\n\u001b[1;32m   1538\u001b[0m \u001b[38;5;28;01mif\u001b[39;00m \u001b[38;5;129;01mnot\u001b[39;00m (\u001b[38;5;28mself\u001b[39m\u001b[38;5;241m.\u001b[39m_backward_hooks \u001b[38;5;129;01mor\u001b[39;00m \u001b[38;5;28mself\u001b[39m\u001b[38;5;241m.\u001b[39m_backward_pre_hooks \u001b[38;5;129;01mor\u001b[39;00m \u001b[38;5;28mself\u001b[39m\u001b[38;5;241m.\u001b[39m_forward_hooks \u001b[38;5;129;01mor\u001b[39;00m \u001b[38;5;28mself\u001b[39m\u001b[38;5;241m.\u001b[39m_forward_pre_hooks\n\u001b[1;32m   1539\u001b[0m         \u001b[38;5;129;01mor\u001b[39;00m _global_backward_pre_hooks \u001b[38;5;129;01mor\u001b[39;00m _global_backward_hooks\n\u001b[1;32m   1540\u001b[0m         \u001b[38;5;129;01mor\u001b[39;00m _global_forward_hooks \u001b[38;5;129;01mor\u001b[39;00m _global_forward_pre_hooks):\n\u001b[0;32m-> 1541\u001b[0m     \u001b[38;5;28;01mreturn\u001b[39;00m \u001b[43mforward_call\u001b[49m\u001b[43m(\u001b[49m\u001b[38;5;241;43m*\u001b[39;49m\u001b[43margs\u001b[49m\u001b[43m,\u001b[49m\u001b[43m \u001b[49m\u001b[38;5;241;43m*\u001b[39;49m\u001b[38;5;241;43m*\u001b[39;49m\u001b[43mkwargs\u001b[49m\u001b[43m)\u001b[49m\n\u001b[1;32m   1543\u001b[0m \u001b[38;5;28;01mtry\u001b[39;00m:\n\u001b[1;32m   1544\u001b[0m     result \u001b[38;5;241m=\u001b[39m \u001b[38;5;28;01mNone\u001b[39;00m\n",
      "Cell \u001b[0;32mIn[79], line 33\u001b[0m, in \u001b[0;36mLSTMGATmodel.forward\u001b[0;34m(self, batch)\u001b[0m\n\u001b[1;32m     30\u001b[0m out \u001b[38;5;241m=\u001b[39m F\u001b[38;5;241m.\u001b[39melu(out)\n\u001b[1;32m     32\u001b[0m \u001b[38;5;66;03m# reestructuracion de datos\u001b[39;00m\n\u001b[0;32m---> 33\u001b[0m out \u001b[38;5;241m=\u001b[39m \u001b[43mout\u001b[49m\u001b[38;5;241;43m.\u001b[39;49m\u001b[43mview\u001b[49m\u001b[43m(\u001b[49m\u001b[38;5;28;43mself\u001b[39;49m\u001b[38;5;241;43m.\u001b[39;49m\u001b[43mbatch_size\u001b[49m\u001b[43m,\u001b[49m\u001b[43m \u001b[49m\u001b[38;5;28;43mself\u001b[39;49m\u001b[38;5;241;43m.\u001b[39;49m\u001b[43mseq_len\u001b[49m\u001b[43m,\u001b[49m\u001b[43m \u001b[49m\u001b[38;5;28;43mself\u001b[39;49m\u001b[38;5;241;43m.\u001b[39;49m\u001b[43mn_nodes\u001b[49m\u001b[43m)\u001b[49m\n\u001b[1;32m     35\u001b[0m \u001b[38;5;66;03m# capa temporal\u001b[39;00m\n\u001b[1;32m     36\u001b[0m out, (hidden, cell) \u001b[38;5;241m=\u001b[39m \u001b[38;5;28mself\u001b[39m\u001b[38;5;241m.\u001b[39mrnn(out)\n",
      "\u001b[0;31mRuntimeError\u001b[0m: shape '[6852, 12, 207]' is invalid for input of size 317952"
     ]
    }
   ],
   "source": [
    "with torch.no_grad():\n",
    "    X_to_test = X_test.contiguous().view(seq_len * model.batch_size, n_nodes)\n",
    "    grafos = [Data(i.view(-1, 1), adj) for i in Xcompact]\n",
    "        \n",
    "    batch_grafos = Batch.from_data_list(grafos).to(device)\n",
    "    predicted = model(batch_grafos)"
   ]
  },
  {
   "cell_type": "code",
   "execution_count": 60,
   "metadata": {},
   "outputs": [
    {
     "data": {
      "text/plain": [
       "128.0"
      ]
     },
     "execution_count": 60,
     "metadata": {},
     "output_type": "execute_result"
    }
   ],
   "source": [
    "317952 / 207 /12"
   ]
  },
  {
   "cell_type": "code",
   "execution_count": 53,
   "metadata": {},
   "outputs": [
    {
     "data": {
      "text/plain": [
       "6852"
      ]
     },
     "execution_count": 53,
     "metadata": {},
     "output_type": "execute_result"
    }
   ],
   "source": [
    "model.batch_size"
   ]
  },
  {
   "cell_type": "code",
   "execution_count": 54,
   "metadata": {},
   "outputs": [
    {
     "ename": "RuntimeError",
     "evalue": "view size is not compatible with input tensor's size and stride (at least one dimension spans across two contiguous subspaces). Use .reshape(...) instead.",
     "output_type": "error",
     "traceback": [
      "\u001b[0;31m---------------------------------------------------------------------------\u001b[0m",
      "\u001b[0;31mRuntimeError\u001b[0m                              Traceback (most recent call last)",
      "Cell \u001b[0;32mIn[54], line 1\u001b[0m\n\u001b[0;32m----> 1\u001b[0m \u001b[43mX_test\u001b[49m\u001b[38;5;241;43m.\u001b[39;49m\u001b[43mview\u001b[49m\u001b[43m(\u001b[49m\u001b[38;5;241;43m6852\u001b[39;49m\u001b[43m \u001b[49m\u001b[38;5;241;43m*\u001b[39;49m\u001b[43m \u001b[49m\u001b[38;5;241;43m12\u001b[39;49m\u001b[43m,\u001b[49m\u001b[43m \u001b[49m\u001b[38;5;241;43m-\u001b[39;49m\u001b[38;5;241;43m1\u001b[39;49m\u001b[43m)\u001b[49m\n",
      "\u001b[0;31mRuntimeError\u001b[0m: view size is not compatible with input tensor's size and stride (at least one dimension spans across two contiguous subspaces). Use .reshape(...) instead."
     ]
    }
   ],
   "source": [
    "X_test.view(6852 * 12, -1)"
   ]
  }
 ],
 "metadata": {
  "kernelspec": {
   "display_name": "cudatest",
   "language": "python",
   "name": "python3"
  },
  "language_info": {
   "codemirror_mode": {
    "name": "ipython",
    "version": 3
   },
   "file_extension": ".py",
   "mimetype": "text/x-python",
   "name": "python",
   "nbconvert_exporter": "python",
   "pygments_lexer": "ipython3",
   "version": "3.8.19"
  }
 },
 "nbformat": 4,
 "nbformat_minor": 2
}
