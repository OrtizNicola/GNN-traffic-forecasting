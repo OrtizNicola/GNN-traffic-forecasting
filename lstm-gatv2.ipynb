{
 "cells": [
  {
   "cell_type": "code",
   "execution_count": 9,
   "metadata": {},
   "outputs": [],
   "source": [
    "from traffic_data import METRLADatasetLoader # descarga de datos\n",
    "import numpy as np # manipulacion de datos\n",
    "import matplotlib.pyplot as plt # graficar\n",
    "import torch # crear modelos\n",
    "from torch.utils.data import TensorDataset, DataLoader # manipular dataset\n",
    "import torch.nn as nn # para usar las capas predefinidas en torch\n",
    "import torch.optim as optim # para poder utilizar adam como el optimizador\n",
    "import torch.nn.functional as F\n",
    "from torch_geometric.nn import GATv2Conv\n",
    "from torch_geometric.data import Data, Batch"
   ]
  },
  {
   "cell_type": "code",
   "execution_count": 2,
   "metadata": {},
   "outputs": [],
   "source": [
    "# cargamos los datos\n",
    "loader = METRLADatasetLoader() \n",
    "adj, weig, x, y = loader.get_dataset(num_timesteps_in=12, \n",
    "                                     num_timesteps_out=1)"
   ]
  },
  {
   "cell_type": "code",
   "execution_count": 3,
   "metadata": {},
   "outputs": [],
   "source": [
    "# omitiremos la variable del tiempo\n",
    "x = [i[:, 0, :] for i in x]"
   ]
  },
  {
   "cell_type": "code",
   "execution_count": 4,
   "metadata": {},
   "outputs": [],
   "source": [
    "adj = torch.tensor(adj)"
   ]
  },
  {
   "cell_type": "code",
   "execution_count": 5,
   "metadata": {},
   "outputs": [
    {
     "name": "stdout",
     "output_type": "stream",
     "text": [
      "34260 34260\n",
      "(207, 12)\n",
      "(207, 1)\n"
     ]
    }
   ],
   "source": [
    "print(len(x), len(y)) # instancias para entrenamiento\n",
    "print(x[0].shape) # cada instancia tiene 207 nodos en 12 momentos\n",
    "print(y[0].shape) # el ground truth es el grafo en el siguiente momento"
   ]
  },
  {
   "cell_type": "code",
   "execution_count": 6,
   "metadata": {},
   "outputs": [
    {
     "name": "stdout",
     "output_type": "stream",
     "text": [
      "torch.Size([34260, 12, 207, 1])\n",
      "torch.Size([34260, 207, 1])\n"
     ]
    }
   ],
   "source": [
    "# convertimos la lista a un tensor aumentando una dimension mas\n",
    "# primero convertimos a array porque es mas eficiente \n",
    "X = torch.tensor(np.array(x)).permute(0, 2, 1).unsqueeze(-1)\n",
    "Y = torch.tensor(np.array(y))\n",
    "print(X.shape)\n",
    "print(Y.shape)"
   ]
  },
  {
   "cell_type": "code",
   "execution_count": 7,
   "metadata": {},
   "outputs": [],
   "source": [
    "# particionamos en train y test y cargamos los datos en objetos\n",
    "# DataLoader para mejorar la eficiencia\n",
    "\n",
    "train_p = 0.8 # porcentaje de training\n",
    "batch_size = 128\n",
    "\n",
    "train_size = int(train_p * len(X))\n",
    "test_size = len(X) - train_size\n",
    "\n",
    "X_train, X_test = torch.split(X, [train_size, test_size])\n",
    "Y_train, Y_test = torch.split(Y, [train_size, test_size])\n",
    "\n",
    "train_dataset = TensorDataset(X_train, Y_train)\n",
    "test_dataset = TensorDataset(X_test, Y_test)\n",
    "\n",
    "train_loader = DataLoader(train_dataset, batch_size=batch_size, \n",
    "                          shuffle=True, drop_last=True)\n",
    "test_loader = DataLoader(test_dataset, batch_size=batch_size, \n",
    "                         shuffle=False, drop_last=True)"
   ]
  },
  {
   "cell_type": "code",
   "execution_count": 8,
   "metadata": {},
   "outputs": [
    {
     "data": {
      "text/plain": [
       "torch.Size([27408, 12, 207, 1])"
      ]
     },
     "execution_count": 8,
     "metadata": {},
     "output_type": "execute_result"
    }
   ],
   "source": [
    "X_train.shape"
   ]
  },
  {
   "cell_type": "code",
   "execution_count": 10,
   "metadata": {},
   "outputs": [],
   "source": [
    "device = torch.device(\"cuda\" if torch.cuda.is_available() else \"cpu\")\n",
    "\n",
    "class GATv2_LSTM_Model(nn.Module):\n",
    "    def __init__(self, node_feature_size, hidden_dim, lstm_layers, output_size, num_nodes):\n",
    "        super(GATv2_LSTM_Model, self).__init__()\n",
    "        self.gat_conv = GATv2Conv(node_feature_size, hidden_dim, heads=1)\n",
    "        self.lstm = nn.LSTM(hidden_dim * num_nodes, hidden_dim, lstm_layers, batch_first=True)\n",
    "        self.fc = nn.Linear(hidden_dim, output_size * num_nodes)\n",
    "        self.num_nodes = num_nodes\n",
    "\n",
    "    def forward(self, graph_sequence, edge_index):\n",
    "        batch_size, seq_len, num_nodes, node_feature_size = graph_sequence.size()\n",
    "\n",
    "        # Preparar las secuencias de grafos para GATConv\n",
    "        graph_sequence = graph_sequence.view(batch_size * seq_len, num_nodes, node_feature_size)\n",
    "        x = graph_sequence.view(-1, node_feature_size)  # (batch_size * seq_len * num_nodes) x node_feature_size\n",
    "\n",
    "        # Ajustar edge_index para batch processing\n",
    "        edge_index_batch = edge_index.repeat(1, batch_size * seq_len)\n",
    "        offset = torch.arange(0, batch_size * seq_len * num_nodes, step=num_nodes, dtype=torch.long).repeat_interleave(edge_index.size(1))\n",
    "        offset = offset.to(device)\n",
    "        edge_index_batch = edge_index_batch + offset\n",
    "\n",
    "        # Procesar todos los grafos en la secuencia de una vez con GATConv\n",
    "        gat_output = self.gat_conv(x, edge_index_batch)\n",
    "        gat_output = gat_output.view(batch_size, seq_len, num_nodes, -1) # -1 = hidden_dim para las features de cada nodo\n",
    "\n",
    "        # Pasar las salidas de GATConv a LSTM\n",
    "        gat_output = gat_output.view(batch_size, seq_len, -1)  # batch_size x seq_len x (num_nodes * hidden_dim)\n",
    "        lstm_out, _ = self.lstm(gat_output)\n",
    "\n",
    "        # Predecir el siguiente estado del grafo\n",
    "        lstm_out = lstm_out[:, -1, :]  # batch_size x hidden_dim\n",
    "        out = self.fc(lstm_out)\n",
    "        out = out.view(batch_size, num_nodes, -1)  # batch_size x num_nodes x output_size\n",
    "\n",
    "        return out"
   ]
  },
  {
   "cell_type": "code",
   "execution_count": 11,
   "metadata": {},
   "outputs": [],
   "source": [
    "node_feature_size = 1 \n",
    "hidden_dim = 1\n",
    "lstm_layers = 1\n",
    "output_size = 1\n",
    "num_nodes = X_train.size(2)"
   ]
  },
  {
   "cell_type": "code",
   "execution_count": 12,
   "metadata": {},
   "outputs": [
    {
     "name": "stdout",
     "output_type": "stream",
     "text": [
      "cuda\n"
     ]
    }
   ],
   "source": [
    "model = GAT_LSTM_Model(node_feature_size, hidden_dim, lstm_layers, output_size, num_nodes)\n",
    "device = torch.device(\"cuda\" if torch.cuda.is_available() else \"cpu\")\n",
    "model = model.to(device)\n",
    "adj = adj.to(device)\n",
    "print(device)"
   ]
  },
  {
   "cell_type": "code",
   "execution_count": 13,
   "metadata": {},
   "outputs": [
    {
     "name": "stdout",
     "output_type": "stream",
     "text": [
      "Epoch [1/100], Loss: 1.4555\n",
      "Epoch [2/100], Loss: 1.3984\n",
      "Epoch [3/100], Loss: 1.4687\n",
      "Epoch [4/100], Loss: 1.1343\n",
      "Epoch [5/100], Loss: 1.1671\n",
      "Epoch [6/100], Loss: 1.1665\n",
      "Epoch [7/100], Loss: 1.0335\n",
      "Epoch [8/100], Loss: 1.4251\n",
      "Epoch [9/100], Loss: 1.3683\n",
      "Epoch [10/100], Loss: 0.9916\n",
      "Epoch [11/100], Loss: 0.8563\n",
      "Epoch [12/100], Loss: 1.0345\n",
      "Epoch [13/100], Loss: 0.8554\n",
      "Epoch [14/100], Loss: 1.2207\n",
      "Epoch [15/100], Loss: 0.9782\n",
      "Epoch [16/100], Loss: 0.7133\n",
      "Epoch [17/100], Loss: 1.0172\n",
      "Epoch [18/100], Loss: 0.9924\n",
      "Epoch [19/100], Loss: 0.8452\n",
      "Epoch [20/100], Loss: 0.9421\n",
      "Epoch [21/100], Loss: 0.8291\n",
      "Epoch [22/100], Loss: 0.7874\n",
      "Epoch [23/100], Loss: 0.7296\n",
      "Epoch [24/100], Loss: 0.9997\n",
      "Epoch [25/100], Loss: 0.7665\n",
      "Epoch [26/100], Loss: 0.7350\n",
      "Epoch [27/100], Loss: 0.8950\n",
      "Epoch [28/100], Loss: 0.7164\n",
      "Epoch [29/100], Loss: 0.6621\n",
      "Epoch [30/100], Loss: 1.1006\n",
      "Epoch [31/100], Loss: 0.7409\n",
      "Epoch [32/100], Loss: 0.7633\n",
      "Epoch [33/100], Loss: 0.6104\n",
      "Epoch [34/100], Loss: 0.6029\n",
      "Epoch [35/100], Loss: 0.8325\n",
      "Epoch [36/100], Loss: 0.6449\n",
      "Epoch [37/100], Loss: 0.6450\n",
      "Epoch [38/100], Loss: 0.5936\n",
      "Epoch [39/100], Loss: 0.6201\n",
      "Epoch [40/100], Loss: 0.6262\n",
      "Epoch [41/100], Loss: 0.6108\n",
      "Epoch [42/100], Loss: 0.5738\n",
      "Epoch [43/100], Loss: 0.5570\n",
      "Epoch [44/100], Loss: 0.5849\n",
      "Epoch [45/100], Loss: 0.5831\n",
      "Epoch [46/100], Loss: 0.6088\n",
      "Epoch [47/100], Loss: 0.6778\n",
      "Epoch [48/100], Loss: 0.6099\n",
      "Epoch [49/100], Loss: 0.5836\n",
      "Epoch [50/100], Loss: 0.6097\n",
      "Epoch [51/100], Loss: 0.6545\n",
      "Epoch [52/100], Loss: 0.5936\n",
      "Epoch [53/100], Loss: 0.5166\n",
      "Epoch [54/100], Loss: 0.5138\n",
      "Epoch [55/100], Loss: 0.4547\n",
      "Epoch [56/100], Loss: 0.6293\n",
      "Epoch [57/100], Loss: 0.5316\n",
      "Epoch [58/100], Loss: 0.5597\n",
      "Epoch [59/100], Loss: 0.4434\n",
      "Epoch [60/100], Loss: 0.6441\n",
      "Epoch [61/100], Loss: 0.4752\n",
      "Epoch [62/100], Loss: 0.5822\n",
      "Epoch [63/100], Loss: 0.4855\n",
      "Epoch [64/100], Loss: 0.4802\n",
      "Epoch [65/100], Loss: 0.5944\n",
      "Epoch [66/100], Loss: 0.5343\n",
      "Epoch [67/100], Loss: 0.4859\n",
      "Epoch [68/100], Loss: 0.4947\n",
      "Epoch [69/100], Loss: 0.5757\n",
      "Epoch [70/100], Loss: 0.4668\n",
      "Epoch [71/100], Loss: 0.4552\n",
      "Epoch [72/100], Loss: 0.4619\n",
      "Epoch [73/100], Loss: 0.5494\n",
      "Epoch [74/100], Loss: 0.4702\n",
      "Epoch [75/100], Loss: 0.4103\n",
      "Epoch [76/100], Loss: 0.4340\n",
      "Epoch [77/100], Loss: 0.4280\n",
      "Epoch [78/100], Loss: 0.5200\n",
      "Epoch [79/100], Loss: 0.4715\n",
      "Epoch [80/100], Loss: 0.3932\n",
      "Epoch [81/100], Loss: 0.4724\n",
      "Epoch [82/100], Loss: 0.4196\n",
      "Epoch [83/100], Loss: 0.4379\n",
      "Epoch [84/100], Loss: 0.4471\n",
      "Epoch [85/100], Loss: 0.4061\n",
      "Epoch [86/100], Loss: 0.5062\n",
      "Epoch [87/100], Loss: 0.4109\n",
      "Epoch [88/100], Loss: 0.3991\n",
      "Epoch [89/100], Loss: 0.4301\n",
      "Epoch [90/100], Loss: 0.4687\n",
      "Epoch [91/100], Loss: 0.5134\n",
      "Epoch [92/100], Loss: 0.4218\n",
      "Epoch [93/100], Loss: 0.4103\n",
      "Epoch [94/100], Loss: 0.4153\n",
      "Epoch [95/100], Loss: 0.3989\n",
      "Epoch [96/100], Loss: 0.4759\n",
      "Epoch [97/100], Loss: 0.4001\n",
      "Epoch [98/100], Loss: 0.4145\n",
      "Epoch [99/100], Loss: 0.4463\n",
      "Epoch [100/100], Loss: 0.4752\n"
     ]
    }
   ],
   "source": [
    "criterion = nn.MSELoss()\n",
    "optimizer = optim.Adam(model.parameters(), lr=0.0001)\n",
    "lossi = []\n",
    "\n",
    "# Entrenamiento del modelo\n",
    "num_epochs = 100\n",
    "\n",
    "for epoch in range(num_epochs):\n",
    "    model.train()\n",
    "    for X_batch, Y_batch in train_loader:\n",
    "        X_batch, Y_batch = X_batch.to(device), Y_batch.to(device)\n",
    "\n",
    "        # Forward \n",
    "        outputs = model(X_batch, adj)\n",
    "        loss = criterion(outputs, Y_batch)\n",
    "        lossi.append(loss.item())\n",
    "\n",
    "        # Backprop\n",
    "        optimizer.zero_grad()\n",
    "        loss.backward()\n",
    "        optimizer.step()\n",
    "    \n",
    "    print(f'Epoch [{epoch+1}/{num_epochs}], Loss: {loss.item():.4f}')"
   ]
  },
  {
   "cell_type": "code",
   "execution_count": null,
   "metadata": {},
   "outputs": [],
   "source": [
    "plt.plot(lossi)"
   ]
  },
  {
   "cell_type": "code",
   "execution_count": null,
   "metadata": {},
   "outputs": [],
   "source": []
  }
 ],
 "metadata": {
  "kernelspec": {
   "display_name": "cudatest",
   "language": "python",
   "name": "python3"
  },
  "language_info": {
   "codemirror_mode": {
    "name": "ipython",
    "version": 3
   },
   "file_extension": ".py",
   "mimetype": "text/x-python",
   "name": "python",
   "nbconvert_exporter": "python",
   "pygments_lexer": "ipython3",
   "version": "3.8.19"
  }
 },
 "nbformat": 4,
 "nbformat_minor": 2
}
