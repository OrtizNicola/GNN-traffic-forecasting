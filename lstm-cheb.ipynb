{
 "cells": [
  {
   "cell_type": "code",
   "execution_count": 1,
   "metadata": {},
   "outputs": [],
   "source": [
    "from traffic_data import METRLADatasetLoader # descarga de datos\n",
    "import numpy as np # manipulacion de datos\n",
    "import matplotlib.pyplot as plt # graficar\n",
    "import torch # crear modelos\n",
    "from torch.utils.data import TensorDataset, DataLoader # manipular dataset\n",
    "import torch.nn as nn # para usar las capas predefinidas en torch\n",
    "import torch.optim as optim # para poder utilizar adam como el optimizador\n",
    "import torch.nn.functional as F\n",
    "from torch_geometric.nn import ChebConv\n",
    "from torch_geometric.data import Data, Batch"
   ]
  },
  {
   "cell_type": "code",
   "execution_count": 2,
   "metadata": {},
   "outputs": [],
   "source": [
    "# cargamos los datos\n",
    "loader = METRLADatasetLoader() \n",
    "adj, weig, x, y = loader.get_dataset(num_timesteps_in=12, \n",
    "                                     num_timesteps_out=1)"
   ]
  },
  {
   "cell_type": "code",
   "execution_count": 3,
   "metadata": {},
   "outputs": [],
   "source": [
    "# omitiremos la variable del tiempo\n",
    "x = [i[:, 0, :] for i in x]"
   ]
  },
  {
   "cell_type": "code",
   "execution_count": 4,
   "metadata": {},
   "outputs": [],
   "source": [
    "adj = torch.tensor(adj)"
   ]
  },
  {
   "cell_type": "code",
   "execution_count": 5,
   "metadata": {},
   "outputs": [
    {
     "name": "stdout",
     "output_type": "stream",
     "text": [
      "34260 34260\n",
      "(207, 12)\n",
      "(207, 1)\n"
     ]
    }
   ],
   "source": [
    "print(len(x), len(y)) # instancias para entrenamiento\n",
    "print(x[0].shape) # cada instancia tiene 207 nodos en 12 momentos\n",
    "print(y[0].shape) # el ground truth es el grafo en el siguiente momento"
   ]
  },
  {
   "cell_type": "code",
   "execution_count": 6,
   "metadata": {},
   "outputs": [
    {
     "name": "stdout",
     "output_type": "stream",
     "text": [
      "torch.Size([34260, 12, 207, 1])\n",
      "torch.Size([34260, 207, 1])\n"
     ]
    }
   ],
   "source": [
    "# convertimos la lista a un tensor aumentando una dimension mas\n",
    "# primero convertimos a array porque es mas eficiente \n",
    "X = torch.tensor(np.array(x)).permute(0, 2, 1).unsqueeze(-1)\n",
    "Y = torch.tensor(np.array(y))\n",
    "print(X.shape)\n",
    "print(Y.shape)"
   ]
  },
  {
   "cell_type": "code",
   "execution_count": 7,
   "metadata": {},
   "outputs": [],
   "source": [
    "# particionamos en train y test y cargamos los datos en objetos\n",
    "# DataLoader para mejorar la eficiencia\n",
    "\n",
    "train_p = 0.8 # porcentaje de training\n",
    "batch_size = 128\n",
    "\n",
    "train_size = int(train_p * len(X))\n",
    "test_size = len(X) - train_size\n",
    "\n",
    "X_train, X_test = torch.split(X, [train_size, test_size])\n",
    "Y_train, Y_test = torch.split(Y, [train_size, test_size])\n",
    "\n",
    "train_dataset = TensorDataset(X_train, Y_train)\n",
    "test_dataset = TensorDataset(X_test, Y_test)\n",
    "\n",
    "train_loader = DataLoader(train_dataset, batch_size=batch_size, \n",
    "                          shuffle=True, drop_last=True)\n",
    "test_loader = DataLoader(test_dataset, batch_size=batch_size, \n",
    "                         shuffle=False, drop_last=True)"
   ]
  },
  {
   "cell_type": "code",
   "execution_count": 8,
   "metadata": {},
   "outputs": [
    {
     "data": {
      "text/plain": [
       "torch.Size([27408, 12, 207, 1])"
      ]
     },
     "execution_count": 8,
     "metadata": {},
     "output_type": "execute_result"
    }
   ],
   "source": [
    "X_train.shape"
   ]
  },
  {
   "cell_type": "code",
   "execution_count": 13,
   "metadata": {},
   "outputs": [],
   "source": [
    "device = torch.device(\"cuda\" if torch.cuda.is_available() else \"cpu\")\n",
    "\n",
    "class Cheb_LSTM_Model(nn.Module):\n",
    "    def __init__(self, node_feature_size, hidden_dim, lstm_layers, output_size, num_nodes):\n",
    "        super(Cheb_LSTM_Model, self).__init__()\n",
    "        self.cheb_conv = ChebConv(node_feature_size, hidden_dim, K=1)\n",
    "        self.lstm = nn.LSTM(hidden_dim * num_nodes, hidden_dim, lstm_layers, batch_first=True)\n",
    "        self.fc = nn.Linear(hidden_dim, output_size * num_nodes)\n",
    "        self.num_nodes = num_nodes\n",
    "\n",
    "    def forward(self, graph_sequence, edge_index):\n",
    "        batch_size, seq_len, num_nodes, node_feature_size = graph_sequence.size()\n",
    "\n",
    "        # Preparar las secuencias de grafos para GATConv\n",
    "        graph_sequence = graph_sequence.view(batch_size * seq_len, num_nodes, node_feature_size)\n",
    "        x = graph_sequence.view(-1, node_feature_size)  # (batch_size * seq_len * num_nodes) x node_feature_size\n",
    "\n",
    "        # Ajustar edge_index para batch processing\n",
    "        edge_index_batch = edge_index.repeat(1, batch_size * seq_len)\n",
    "        offset = torch.arange(0, batch_size * seq_len * num_nodes, step=num_nodes, dtype=torch.long).repeat_interleave(edge_index.size(1))\n",
    "        offset = offset.to(device)\n",
    "        edge_index_batch = edge_index_batch + offset\n",
    "\n",
    "        # Procesar todos los grafos en la secuencia de una vez con GATConv\n",
    "        cheb_output = self.cheb_conv(x, edge_index_batch)\n",
    "        cheb_output = cheb_output.view(batch_size, seq_len, num_nodes, -1) # -1 = hidden_dim para las features de cada nodo\n",
    "\n",
    "        # Pasar las salidas de GATConv a LSTM\n",
    "        cheb_output = cheb_output.view(batch_size, seq_len, -1)  # batch_size x seq_len x (num_nodes * hidden_dim)\n",
    "        lstm_out, _ = self.lstm(cheb_output)\n",
    "\n",
    "        # Predecir el siguiente estado del grafo\n",
    "        lstm_out = lstm_out[:, -1, :]  # batch_size x hidden_dim\n",
    "        out = self.fc(lstm_out)\n",
    "        out = out.view(batch_size, num_nodes, -1)  # batch_size x num_nodes x output_size\n",
    "\n",
    "        return out"
   ]
  },
  {
   "cell_type": "code",
   "execution_count": 14,
   "metadata": {},
   "outputs": [],
   "source": [
    "node_feature_size = 1 \n",
    "hidden_dim = 1\n",
    "lstm_layers = 1\n",
    "output_size = 1\n",
    "num_nodes = X_train.size(2)"
   ]
  },
  {
   "cell_type": "code",
   "execution_count": 15,
   "metadata": {},
   "outputs": [
    {
     "name": "stdout",
     "output_type": "stream",
     "text": [
      "cuda\n"
     ]
    }
   ],
   "source": [
    "model = Cheb_LSTM_Model(node_feature_size, hidden_dim, lstm_layers, output_size, num_nodes)\n",
    "device = torch.device(\"cuda\" if torch.cuda.is_available() else \"cpu\")\n",
    "model = model.to(device)\n",
    "adj = adj.to(device)\n",
    "print(device)"
   ]
  },
  {
   "cell_type": "code",
   "execution_count": 16,
   "metadata": {},
   "outputs": [
    {
     "name": "stdout",
     "output_type": "stream",
     "text": [
      "Epoch [1/100], Loss: 1.3493\n",
      "Epoch [2/100], Loss: 1.1326\n",
      "Epoch [3/100], Loss: 1.0623\n",
      "Epoch [4/100], Loss: 1.3865\n",
      "Epoch [5/100], Loss: 1.3285\n",
      "Epoch [6/100], Loss: 1.2272\n",
      "Epoch [7/100], Loss: 1.1701\n",
      "Epoch [8/100], Loss: 1.1955\n",
      "Epoch [9/100], Loss: 0.7923\n",
      "Epoch [10/100], Loss: 1.2820\n",
      "Epoch [11/100], Loss: 1.1994\n"
     ]
    }
   ],
   "source": [
    "criterion = nn.MSELoss()\n",
    "optimizer = optim.Adam(model.parameters(), lr=0.0001)\n",
    "lossi = []\n",
    "\n",
    "# Entrenamiento del modelo\n",
    "num_epochs = 100\n",
    "\n",
    "for epoch in range(num_epochs):\n",
    "    model.train()\n",
    "    for X_batch, Y_batch in train_loader:\n",
    "        X_batch, Y_batch = X_batch.to(device), Y_batch.to(device)\n",
    "\n",
    "        # Forward \n",
    "        outputs = model(X_batch, adj)\n",
    "        loss = criterion(outputs, Y_batch)\n",
    "        lossi.append(loss.item())\n",
    "\n",
    "        # Backprop\n",
    "        optimizer.zero_grad()\n",
    "        loss.backward()\n",
    "        optimizer.step()\n",
    "    \n",
    "    print(f'Epoch [{epoch+1}/{num_epochs}], Loss: {loss.item():.4f}')"
   ]
  },
  {
   "cell_type": "code",
   "execution_count": null,
   "metadata": {},
   "outputs": [
    {
     "data": {
      "text/plain": [
       "[<matplotlib.lines.Line2D at 0x7fa70424b9d0>]"
      ]
     },
     "execution_count": 13,
     "metadata": {},
     "output_type": "execute_result"
    },
    {
     "data": {
      "image/png": "[encoded data removed]",
      "text/plain": [
       "<Figure size 640x480 with 1 Axes>"
      ]
     },
     "metadata": {},
     "output_type": "display_data"
    }
   ],
   "source": [
    "plt.plot(lossi)"
   ]
  },
  {
   "cell_type": "code",
   "execution_count": null,
   "metadata": {},
   "outputs": [],
   "source": []
  }
 ],
 "metadata": {
  "kernelspec": {
   "display_name": "cudatest",
   "language": "python",
   "name": "python3"
  },
  "language_info": {
   "codemirror_mode": {
    "name": "ipython",
    "version": 3
   },
   "file_extension": ".py",
   "mimetype": "text/x-python",
   "name": "python",
   "nbconvert_exporter": "python",
   "pygments_lexer": "ipython3",
   "version": "3.8.19"
  }
 },
 "nbformat": 4,
 "nbformat_minor": 2
}
